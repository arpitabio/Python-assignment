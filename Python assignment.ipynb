{
 "cells": [
  {
   "cell_type": "code",
   "execution_count": 11,
   "id": "290d934e-1f78-4e7d-acd9-5231115f9edc",
   "metadata": {},
   "outputs": [],
   "source": [
    "#Storing values to variables\n",
    "stud_name= \"Arpita\"\n",
    "bir_yr= 2000\n",
    "age= 24.2\n",
    "post_grad= True"
   ]
  },
  {
   "cell_type": "code",
   "execution_count": 2,
   "id": "251553a2-cd30-4d98-bfaa-060d356b25aa",
   "metadata": {},
   "outputs": [
    {
     "data": {
      "text/plain": [
       "'Arpita'"
      ]
     },
     "execution_count": 2,
     "metadata": {},
     "output_type": "execute_result"
    }
   ],
   "source": [
    "stud_name"
   ]
  },
  {
   "cell_type": "code",
   "execution_count": 3,
   "id": "bc74ff5a-ef08-4417-8d30-ff9efaa818d2",
   "metadata": {},
   "outputs": [
    {
     "data": {
      "text/plain": [
       "2000"
      ]
     },
     "execution_count": 3,
     "metadata": {},
     "output_type": "execute_result"
    }
   ],
   "source": [
    "bir_yr"
   ]
  },
  {
   "cell_type": "code",
   "execution_count": 4,
   "id": "cba2a19b-8f3c-451b-9734-4ff54a7c91b0",
   "metadata": {},
   "outputs": [
    {
     "data": {
      "text/plain": [
       "24.2"
      ]
     },
     "execution_count": 4,
     "metadata": {},
     "output_type": "execute_result"
    }
   ],
   "source": [
    "age"
   ]
  },
  {
   "cell_type": "code",
   "execution_count": 5,
   "id": "ca06d805-d465-4719-aaab-ca5088a4799a",
   "metadata": {},
   "outputs": [
    {
     "data": {
      "text/plain": [
       "True"
      ]
     },
     "execution_count": 5,
     "metadata": {},
     "output_type": "execute_result"
    }
   ],
   "source": [
    "post_grad"
   ]
  },
  {
   "cell_type": "code",
   "execution_count": 10,
   "id": "fdf0bf5f-2df5-4552-8687-b07f394858ec",
   "metadata": {},
   "outputs": [
    {
     "data": {
      "text/plain": [
       "str"
      ]
     },
     "execution_count": 10,
     "metadata": {},
     "output_type": "execute_result"
    }
   ],
   "source": [
    "#Finding datatypes\n",
    "type(stud_name)"
   ]
  },
  {
   "cell_type": "code",
   "execution_count": 7,
   "id": "9a63a030-895a-46dd-885c-3873551ab84b",
   "metadata": {},
   "outputs": [
    {
     "data": {
      "text/plain": [
       "int"
      ]
     },
     "execution_count": 7,
     "metadata": {},
     "output_type": "execute_result"
    }
   ],
   "source": [
    "type(bir_yr)"
   ]
  },
  {
   "cell_type": "code",
   "execution_count": 8,
   "id": "9e32197b-7c32-4374-bcd5-3d538f147940",
   "metadata": {},
   "outputs": [
    {
     "data": {
      "text/plain": [
       "float"
      ]
     },
     "execution_count": 8,
     "metadata": {},
     "output_type": "execute_result"
    }
   ],
   "source": [
    "type(age)"
   ]
  },
  {
   "cell_type": "code",
   "execution_count": 9,
   "id": "9fc1990e-6f3a-45fa-a655-b2f5c0fff419",
   "metadata": {},
   "outputs": [
    {
     "data": {
      "text/plain": [
       "bool"
      ]
     },
     "execution_count": 9,
     "metadata": {},
     "output_type": "execute_result"
    }
   ],
   "source": [
    "type(post_grad)"
   ]
  },
  {
   "cell_type": "code",
   "execution_count": 12,
   "id": "a6ca9425-a30a-4d60-b364-96b17a6f4fd5",
   "metadata": {},
   "outputs": [
    {
     "data": {
      "text/plain": [
       "str"
      ]
     },
     "execution_count": 12,
     "metadata": {},
     "output_type": "execute_result"
    }
   ],
   "source": [
    "#Converting one datatype into another\n",
    "type(str(age))"
   ]
  },
  {
   "cell_type": "code",
   "execution_count": 18,
   "id": "39f3ea58-eb55-447f-b4c3-70297684d147",
   "metadata": {},
   "outputs": [
    {
     "data": {
      "text/plain": [
       "'24.2yrs'"
      ]
     },
     "execution_count": 18,
     "metadata": {},
     "output_type": "execute_result"
    }
   ],
   "source": [
    "str(age)+ \"yrs\""
   ]
  },
  {
   "cell_type": "code",
   "execution_count": 15,
   "id": "3a621eb8-d262-4810-a68a-31caea57783c",
   "metadata": {},
   "outputs": [
    {
     "data": {
      "text/plain": [
       "bool"
      ]
     },
     "execution_count": 15,
     "metadata": {},
     "output_type": "execute_result"
    }
   ],
   "source": [
    "type(bool(bir_yr))"
   ]
  },
  {
   "cell_type": "code",
   "execution_count": 16,
   "id": "31c0fac1-33b2-402a-8ec2-8a5b255dfaed",
   "metadata": {},
   "outputs": [
    {
     "data": {
      "text/plain": [
       "1"
      ]
     },
     "execution_count": 16,
     "metadata": {},
     "output_type": "execute_result"
    }
   ],
   "source": [
    "int(post_grad)"
   ]
  },
  {
   "cell_type": "code",
   "execution_count": 17,
   "id": "264dd58c-4a5f-43a9-84f3-d86034af63e0",
   "metadata": {},
   "outputs": [
    {
     "data": {
      "text/plain": [
       "int"
      ]
     },
     "execution_count": 17,
     "metadata": {},
     "output_type": "execute_result"
    }
   ],
   "source": [
    "type(int(post_grad))"
   ]
  },
  {
   "cell_type": "code",
   "execution_count": 19,
   "id": "31ddeb1f-2d7d-4066-800e-62f7eb83dffd",
   "metadata": {},
   "outputs": [
    {
     "data": {
      "text/plain": [
       "True"
      ]
     },
     "execution_count": 19,
     "metadata": {},
     "output_type": "execute_result"
    }
   ],
   "source": [
    "bool(stud_name)"
   ]
  },
  {
   "cell_type": "code",
   "execution_count": 20,
   "id": "56f68e7d-36c6-4f51-9b05-9c20578f4c73",
   "metadata": {},
   "outputs": [
    {
     "data": {
      "text/plain": [
       "bool"
      ]
     },
     "execution_count": 20,
     "metadata": {},
     "output_type": "execute_result"
    }
   ],
   "source": [
    "type(bool(stud_name))"
   ]
  },
  {
   "cell_type": "code",
   "execution_count": 26,
   "id": "c3b14cf6-e8af-44bf-85e7-119fbd655b22",
   "metadata": {},
   "outputs": [
    {
     "data": {
      "text/plain": [
       "int"
      ]
     },
     "execution_count": 26,
     "metadata": {},
     "output_type": "execute_result"
    }
   ],
   "source": [
    "type(int(age))"
   ]
  },
  {
   "cell_type": "code",
   "execution_count": 22,
   "id": "9e7368e6-25bc-4fd5-9416-e69ee7a109a2",
   "metadata": {},
   "outputs": [
    {
     "data": {
      "text/plain": [
       "24"
      ]
     },
     "execution_count": 22,
     "metadata": {},
     "output_type": "execute_result"
    }
   ],
   "source": [
    "int(age)"
   ]
  },
  {
   "cell_type": "code",
   "execution_count": 23,
   "id": "5e042884-423b-4f85-843b-0460ec8ccb87",
   "metadata": {},
   "outputs": [
    {
     "data": {
      "text/plain": [
       "float"
      ]
     },
     "execution_count": 23,
     "metadata": {},
     "output_type": "execute_result"
    }
   ],
   "source": [
    "type(float(bir_yr))"
   ]
  },
  {
   "cell_type": "code",
   "execution_count": 24,
   "id": "2f33c686-fa6f-43d8-abd7-4ce95b900067",
   "metadata": {},
   "outputs": [
    {
     "data": {
      "text/plain": [
       "2000.0"
      ]
     },
     "execution_count": 24,
     "metadata": {},
     "output_type": "execute_result"
    }
   ],
   "source": [
    "float(bir_yr)"
   ]
  },
  {
   "cell_type": "code",
   "execution_count": 27,
   "id": "e0cb960d-080c-4317-91fa-fbb62d7b7ea5",
   "metadata": {},
   "outputs": [
    {
     "data": {
      "text/plain": [
       "'Done with the homework in python'"
      ]
     },
     "execution_count": 27,
     "metadata": {},
     "output_type": "execute_result"
    }
   ],
   "source": [
    "\"Done with the homework in python\""
   ]
  },
  {
   "cell_type": "code",
   "execution_count": null,
   "id": "9c6ffdf1-62d0-4900-a0db-6e1405196b4e",
   "metadata": {},
   "outputs": [],
   "source": []
  },
  {
   "cell_type": "code",
   "execution_count": null,
   "id": "31bad930-a7cf-4162-8e88-6d1eb03fe13f",
   "metadata": {},
   "outputs": [],
   "source": []
  }
 ],
 "metadata": {
  "kernelspec": {
   "display_name": "Python 3 (ipykernel)",
   "language": "python",
   "name": "python3"
  },
  "language_info": {
   "codemirror_mode": {
    "name": "ipython",
    "version": 3
   },
   "file_extension": ".py",
   "mimetype": "text/x-python",
   "name": "python",
   "nbconvert_exporter": "python",
   "pygments_lexer": "ipython3",
   "version": "3.12.4"
  }
 },
 "nbformat": 4,
 "nbformat_minor": 5
}
